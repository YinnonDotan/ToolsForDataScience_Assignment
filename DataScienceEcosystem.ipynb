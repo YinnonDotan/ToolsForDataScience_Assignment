{
 "cells": [
  {
   "cell_type": "markdown",
   "id": "745029ff-b899-4d1d-864e-24d10ce62c3c",
   "metadata": {},
   "source": [
    "# Data Science Tools and Ecosystems"
   ]
  },
  {
   "cell_type": "markdown",
   "id": "8ad6f3ca-b72c-4adc-973a-3420b4247b26",
   "metadata": {},
   "source": [
    "In this notebook, Data Science Tools and Ecosystem are summarized."
   ]
  },
  {
   "cell_type": "markdown",
   "id": "f87af244-a9d1-4cd6-8267-d6c8701aecc4",
   "metadata": {},
   "source": [
    "**Objectives:**\n",
    " -  List popular languages for Data Scientists.\n",
    " -  List some commonly used libraries for Data Scientists.\n",
    " -  Learn markdown syntax in jupyter notebook."
   ]
  },
  {
   "cell_type": "markdown",
   "id": "b562e680-8334-4298-9ee3-bbec67f5518d",
   "metadata": {},
   "source": [
    "Some of the popular languages that Data Scientists use are:\n",
    "1. python\n",
    "1. R\n",
    "1. SQL"
   ]
  },
  {
   "cell_type": "markdown",
   "id": "9f49e3e4-858a-48be-8ea8-4c6bfce13650",
   "metadata": {},
   "source": [
    "Some of the commonly used libraries used by Data Scientists include:\n",
    "1. Numpy\n",
    "1. Pandas\n",
    "1. Matplotlib"
   ]
  },
  {
   "cell_type": "markdown",
   "id": "0020d5ad-4927-49f5-ad4f-65efb29e230e",
   "metadata": {},
   "source": [
    "| Data Science Tools |\n",
    "| --- |\n",
    "| Rstudio |\n",
    "| MySql |\n",
    "| Github |\n"
   ]
  },
  {
   "cell_type": "markdown",
   "id": "8fcfd2ff-9ede-49e3-9421-7b46ace56af6",
   "metadata": {},
   "source": [
    "### Below are a few examples of evaluating arithmetic expressions in python"
   ]
  },
  {
   "cell_type": "code",
   "execution_count": 5,
   "id": "1f726481-3a24-4150-bbab-7687fd7bc994",
   "metadata": {},
   "outputs": [
    {
     "data": {
      "text/plain": [
       "17"
      ]
     },
     "execution_count": 5,
     "metadata": {},
     "output_type": "execute_result"
    }
   ],
   "source": [
    "# This is a simple arithmetic expression to multiply then add integers .\n",
    "(3*4)+5"
   ]
  },
  {
   "cell_type": "code",
   "execution_count": null,
   "id": "45f68f63-a080-4754-8628-08d89ce4cf44",
   "metadata": {},
   "outputs": [
    {
     "data": {
      "text/plain": [
       "3.3333333333333335"
      ]
     },
     "execution_count": 6,
     "metadata": {},
     "output_type": "execute_result"
    }
   ],
   "source": [
    "# This will convert 200 minutes to hours by dividing by 60\n",
    "200/60"
   ]
  },
  {
   "cell_type": "markdown",
   "id": "387b2d9c-503e-4be1-82e5-fec67b6865af",
   "metadata": {},
   "source": [
    "## Author\n",
    "Yinnon Dotan"
   ]
  }
 ],
 "metadata": {
  "kernelspec": {
   "display_name": "Python",
   "language": "python",
   "name": "conda-env-python-py"
  },
  "language_info": {
   "codemirror_mode": {
    "name": "ipython",
    "version": 3
   },
   "file_extension": ".py",
   "mimetype": "text/x-python",
   "name": "python",
   "nbconvert_exporter": "python",
   "pygments_lexer": "ipython3",
   "version": "3.7.12"
  }
 },
 "nbformat": 4,
 "nbformat_minor": 5
}
